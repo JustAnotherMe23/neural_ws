{
 "cells": [
  {
   "cell_type": "code",
   "execution_count": 29,
   "metadata": {},
   "outputs": [
    {
     "name": "stdout",
     "output_type": "stream",
     "text": [
      "46188\n",
      "46188\n",
      "[[13626.0, 1814.0, 6485.0], [0.0, 14694.0, 13996.0], [1.0, 5032.0, 36728.0]]\n"
     ]
    }
   ],
   "source": [
    "import pandas as pd\n",
    "from sklearn.metrics import confusion_matrix # Creates truth table for evaluating results\n",
    "import numpy as np\n",
    "\n",
    "def categorize_2D_array(in_data):\n",
    "    out_data = []\n",
    "    \n",
    "    for row in range(0, in_data.shape[0]):\n",
    "        maximum = 0\n",
    "        category = -1\n",
    "        for col in range(0, in_data.shape[1]):\n",
    "            if in_data[row][col] > maximum:\n",
    "                maximum = in_data[row][col]\n",
    "                category = col\n",
    "                \n",
    "        if category == -1:\n",
    "            print('Something went wrong')\n",
    "        else:\n",
    "            out_data.append(str(category))\n",
    "    return(out_data)\n",
    "\n",
    "def add_cms(cm_3D_list):\n",
    "    cm_sum = np.zeros((len(cm_3D_list[0]), len(cm_3D_list[0])))\n",
    "    \n",
    "    for i in range(0, len(cm_3D_list)):\n",
    "        for row in range(0, len(cm_3D_list[0])):\n",
    "            for col in range(0, len(cm_3D_list[0])):\n",
    "                cm_sum[row][col] = cm_sum[row][col] + cm_3D_list[i][row][col]\n",
    "    \n",
    "    return cm_sum.tolist()\n",
    "\n",
    "cross_eval_cm = []\n",
    "for i in range(0, 2):\n",
    "    y = pd.read_pickle('./Cross_Validation_Results/cv_results_' + str(i) + '.pkl')\n",
    "    \n",
    "    y_pred_certainty = y.iloc[:, [0, 1, 2]].values\n",
    "    y_test_certainty = y.iloc[:, [3, 4, 5]].values\n",
    "    y_pred = categorize_2D_array(y_pred_certainty)\n",
    "    y_test = categorize_2D_array(y_test_certainty)\n",
    "    \n",
    "    print(len(y_pred))\n",
    "    cm = confusion_matrix(y_test, y_pred) # First set is the rows, second is columns\n",
    "    cross_eval_cm.append(cm.tolist())\n",
    "\n",
    "summed_cm = add_cms(cross_eval_cm)\n",
    "print(summed_cm)"
   ]
  },
  {
   "cell_type": "code",
   "execution_count": 21,
   "metadata": {},
   "outputs": [
    {
     "ename": "IndexError",
     "evalue": "list index out of range",
     "output_type": "error",
     "traceback": [
      "\u001b[0;31m---------------------------------------------------------------------------\u001b[0m",
      "\u001b[0;31mIndexError\u001b[0m                                Traceback (most recent call last)",
      "\u001b[0;32m<ipython-input-21-d5a49a4ecd4d>\u001b[0m in \u001b[0;36m<module>\u001b[0;34m()\u001b[0m\n\u001b[1;32m      1\u001b[0m \u001b[0my\u001b[0m \u001b[0;34m=\u001b[0m \u001b[0;34m[\u001b[0m\u001b[0;34m]\u001b[0m\u001b[0;34m\u001b[0m\u001b[0m\n\u001b[0;32m----> 2\u001b[0;31m \u001b[0my\u001b[0m\u001b[0;34m[\u001b[0m\u001b[0;36m0\u001b[0m\u001b[0;34m]\u001b[0m\u001b[0;34m[\u001b[0m\u001b[0;36m0\u001b[0m\u001b[0;34m]\u001b[0m \u001b[0;34m=\u001b[0m \u001b[0;36m1\u001b[0m\u001b[0;34m\u001b[0m\u001b[0m\n\u001b[0m\u001b[1;32m      3\u001b[0m \u001b[0mprint\u001b[0m\u001b[0;34m(\u001b[0m\u001b[0my\u001b[0m\u001b[0;34m)\u001b[0m\u001b[0;34m\u001b[0m\u001b[0m\n",
      "\u001b[0;31mIndexError\u001b[0m: list index out of range"
     ]
    }
   ],
   "source": [
    "y = []\n",
    "y[0][0] = 1\n",
    "print(y)"
   ]
  },
  {
   "cell_type": "code",
   "execution_count": null,
   "metadata": {},
   "outputs": [],
   "source": []
  }
 ],
 "metadata": {
  "kernelspec": {
   "display_name": "Python 3",
   "language": "python",
   "name": "python3"
  },
  "language_info": {
   "codemirror_mode": {
    "name": "ipython",
    "version": 3
   },
   "file_extension": ".py",
   "mimetype": "text/x-python",
   "name": "python",
   "nbconvert_exporter": "python",
   "pygments_lexer": "ipython3",
   "version": "3.5.2"
  }
 },
 "nbformat": 4,
 "nbformat_minor": 2
}
