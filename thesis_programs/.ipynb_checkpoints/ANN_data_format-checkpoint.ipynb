{
 "cells": [
  {
   "cell_type": "code",
   "execution_count": null,
   "metadata": {
    "scrolled": false
   },
   "outputs": [
    {
     "name": "stdout",
     "output_type": "stream",
     "text": [
      "Starting Rest Data\n",
      "row:\t0\n",
      "row:\t1000\n",
      "row:\t2000\n",
      "row:\t3000\n",
      "row:\t4000\n",
      "row:\t5000\n",
      "row:\t6000\n",
      "row:\t7000\n",
      "row:\t8000\n",
      "row:\t9000\n",
      "row:\t10000\n",
      "row:\t11000\n",
      "row:\t12000\n",
      "row:\t13000\n"
     ]
    }
   ],
   "source": [
    "import pandas as pd\n",
    "import csv\n",
    "\n",
    "x_array = []\n",
    "y = pd.DataFrame(columns=['Rest', 'Emote', 'Solve'])\n",
    "\n",
    "count = 0\n",
    "print('Starting Rest Data')\n",
    "with open('./fMRI_Data/rest_data.csv') as csvfile:\n",
    "    reader = csv.reader(csvfile, quoting=csv.QUOTE_NONNUMERIC) # change contents to floats\n",
    "    for row in reader: # each row is a list\n",
    "        y = y.append({'Rest':1, 'Emote':0, 'Solve':0}, ignore_index=True)\n",
    "        x_array.append(row)\n",
    "        if count%1000 == 0:\n",
    "            print('row:\\t' + str(count))\n",
    "        count = count + 1\n",
    "        \n",
    "count = 0\n",
    "print('Starting Emote Data')\n",
    "with open('./fMRI_Data/emote_data.csv') as csvfile:\n",
    "    reader = csv.reader(csvfile, quoting=csv.QUOTE_NONNUMERIC) # change contents to floats\n",
    "    for row in reader: # each row is a list\n",
    "        y = y.append({'Rest':0, 'Emote':1, 'Solve':0}, ignore_index=True)\n",
    "        x_array.append(row)\n",
    "        if count%1000 == 0:\n",
    "            print('\\trow:\\t' + str(count))\n",
    "        count = count + 1\n",
    "        \n",
    "count = 0\n",
    "print('Starting Solve Data')\n",
    "with open('./fMRI_Data/solve_data.csv') as csvfile:\n",
    "    reader = csv.reader(csvfile, quoting=csv.QUOTE_NONNUMERIC) # change contents to floats\n",
    "    for row in reader: # each row is a list\n",
    "        y = y.append({'Rest':0, 'Emote':0, 'Solve':1}, ignore_index=True)\n",
    "        x_array.append(row)\n",
    "        if count%1000 == 0:\n",
    "            print('\\t\\trow:\\t' + str(count))\n",
    "        count = count + 1\n",
    "\n",
    "x_array = np.asarray(x_array)\n",
    "atlas_data = pd.DataFrame(x_array)\n",
    "atlas_data['Rest'] = y['Rest']\n",
    "atlas_data['Emote'] = y['Emote']\n",
    "atlas_data['Solve'] = y['Solve']"
   ]
  },
  {
   "cell_type": "code",
   "execution_count": 26,
   "metadata": {},
   "outputs": [
    {
     "name": "stdout",
     "output_type": "stream",
     "text": [
      "(461882, 264)\n",
      "(461882, 3)\n"
     ]
    }
   ],
   "source": [
    "print(atlas_data.shape)"
   ]
  },
  {
   "cell_type": "code",
   "execution_count": 27,
   "metadata": {},
   "outputs": [],
   "source": [
    "atlas_data.to_pickle('./atlas.pkl')"
   ]
  },
  {
   "cell_type": "code",
   "execution_count": null,
   "metadata": {},
   "outputs": [],
   "source": []
  }
 ],
 "metadata": {
  "kernelspec": {
   "display_name": "Python 3",
   "language": "python",
   "name": "python3"
  },
  "language_info": {
   "codemirror_mode": {
    "name": "ipython",
    "version": 3
   },
   "file_extension": ".py",
   "mimetype": "text/x-python",
   "name": "python",
   "nbconvert_exporter": "python",
   "pygments_lexer": "ipython3",
   "version": "3.5.2"
  }
 },
 "nbformat": 4,
 "nbformat_minor": 2
}
