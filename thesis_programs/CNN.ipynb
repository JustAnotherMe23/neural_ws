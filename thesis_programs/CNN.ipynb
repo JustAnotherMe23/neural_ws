{
 "cells": [
  {
   "cell_type": "code",
   "execution_count": 3,
   "metadata": {},
   "outputs": [],
   "source": [
    "# This is a practice Artificial Neural Network\n",
    "# The problem being solved is based off of a model bank with fake data\n",
    "# The bank has customers that have left for whatever reason\n",
    "# The goal is to find why these customers have left using information such as account balance and gender\n",
    "# The last column of the data states whether or not the customer has left the bank\n",
    "\n",
    "import os # Navigating directories\n",
    "import nibabel as nib # For nii files\n",
    "\n",
    "import numpy as np #Math operations library\n",
    "import matplotlib.pyplot as plt #Visualization library\n",
    "import pandas as pd #Matrix handler\n",
    "\n",
    "import keras # Brings in tensorflow with it\n",
    "from keras.models import Sequential # Used for initialization of ANN\n",
    "from keras.layers import Dense, Conv3D, MaxPooling3D, Flatten # adds layers to ANN\n",
    "from keras.wrappers.scikit_learn import KerasClassifier # ability to turn network into a function definition\n",
    "from keras.layers import Dropout\n",
    "\n",
    "from sklearn.preprocessing import LabelEncoder, OneHotEncoder, StandardScaler #Methods to change categorical strings to numbers and scaling ability\n",
    "from sklearn.model_selection import train_test_split # Splits data into training and testing\n",
    "from sklearn.model_selection import GridSearchCV\n",
    "from sklearn.metrics import confusion_matrix # Creates truth table for evaluating results\n",
    "\n",
    "def build_classifier(nodes, hidden_layers) :\n",
    "    classifier = Sequential() # This is the ANN object\n",
    "    classifier.add(Conv3D(32, (3, 3, 3), input_shape=(79, 95, 79, 1), strides=(1, 1, 1), padding='valid', data_format=None, dilation_rate=(1, 1, 1), activation='relu', use_bias=True, kernel_initializer='glorot_uniform', bias_initializer='zeros', kernel_regularizer=None, bias_regularizer=None, activity_regularizer=None, kernel_constraint=None, bias_constraint=None))\n",
    "                   #Conv3D(32, (3, 3, 3), input_shape=(79, 95, 79), activation='relu')) # 32 kernels, 3x3; input image is rgb and 64x64\n",
    "    #Note: images are not the same size and will need adjustment prior to training\n",
    "    #Note: docs using Theano backend reference the input shape with the channel number first\n",
    "    classifier.add(MaxPooling3D(pool_size=(2, 2, 2))) # Mix a 4x4 square into a 1x1\n",
    "    classifier.add(Conv3D(32, (3, 3, 3), activation='relu'))\n",
    "    classifier.add(MaxPooling3D(pool_size=(2, 2, 2)))\n",
    "    classifier.add(Flatten())\n",
    "    \n",
    "    classifier.add(Dense(input_dim=11, units=nodes, kernel_initializer='uniform', activation='relu')) #Creates first hidden layer\n",
    "    classifier.add(Dropout(rate=0.1))\n",
    "    \n",
    "    for i in range(0, hidden_layers):\n",
    "        classifier.add(Dense(units=nodes, kernel_initializer='uniform', activation='relu')) # Second layer. Input dim is known from previous layer\n",
    "        classifier.add(Dropout(rate=0.1))\n",
    "    \n",
    "    classifier.add(Dense(units=1, kernel_initializer='uniform', activation='sigmoid')) # Output layer. Only 1 ouput category, sigmoid activation to get probability of sureness\n",
    "    classifier.add(Dropout(rate=0.1))\n",
    "\n",
    "    # Note: Softmax applies to a dependent variable that has more than 2 categories\n",
    "    # i.e. fMRI categorizations\n",
    "\n",
    "    classifier.compile(optimizer='rmsprop', loss=\"binary_crossentropy\", metrics=['accuracy'])\n",
    "    # Notes\n",
    "    # adam is a kind of stochastic gradient descent\n",
    "    # For multivariabel, use categorical cross entropy\n",
    "    # Accuracy is predefined\n",
    "    return classifier\n",
    "# Creates a standard Keras type classifier composed of the defined network for\n",
    "# k-means testing\n",
    "parameters = {'batch_size': 25,\n",
    "              'epochs': 500,\n",
    "              'optimizer': 'rmsprop', #'adam'],\n",
    "              'nodes': 6,\n",
    "              'hidden_layers': 1} # Creates list of parameters to test to find most successful one\n",
    "\n",
    "\n",
    "classifier = build_classifier(parameters['nodes'], parameters['hidden_layers'])"
   ]
  },
  {
   "cell_type": "code",
   "execution_count": null,
   "metadata": {
    "scrolled": true
   },
   "outputs": [
    {
     "name": "stdout",
     "output_type": "stream",
     "text": [
      "Found directory: /media/jasondent/SANDISK/PNC_resting_state\n",
      "Found directory: /media/jasondent/SANDISK/PNC_resting_state/600710344290\n",
      "(1, 79, 95, 79, 1)\n",
      "Found directory: /media/jasondent/SANDISK/PNC_resting_state/600730262874\n",
      "(1, 79, 95, 79, 1)\n",
      "Found directory: /media/jasondent/SANDISK/PNC_resting_state/600745453476\n",
      "(1, 79, 95, 79, 1)\n"
     ]
    }
   ],
   "source": [
    "# model.train_on_batch(x_batch, y_batch)\n",
    "# loss_and_metrics = model.evaluate(x_test, y_test, batch_size=128)\n",
    "# classes = model.predict(x_test, batch_size=128)\n",
    "\n",
    "rootDir = '/media/jasondent/SANDISK/PNC_resting_state'\n",
    "counter = 0\n",
    "for dirName, subdirList, fileList in os.walk(rootDir):\n",
    "    print('Found directory: %s' % dirName)\n",
    "    for fname in fileList:\n",
    "        file_location = dirName + '/' + fname\n",
    "        img = nib.load(file_location)\n",
    "        data = img.get_fdata()\n",
    "        # print(np.max(img.get_fdata()))\n",
    "        counter = counter + 1\n",
    "        # print(img.get_fdata().shape())\n",
    "        data.resize(1, 79, 95, 79, 1)\n",
    "        print(data.shape)\n",
    "        classifier.train_on_batch(data, np.array([0]))\n",
    "        break\n"
   ]
  },
  {
   "cell_type": "code",
   "execution_count": null,
   "metadata": {},
   "outputs": [],
   "source": []
  }
 ],
 "metadata": {
  "kernelspec": {
   "display_name": "Python 3",
   "language": "python",
   "name": "python3"
  },
  "language_info": {
   "codemirror_mode": {
    "name": "ipython",
    "version": 3
   },
   "file_extension": ".py",
   "mimetype": "text/x-python",
   "name": "python",
   "nbconvert_exporter": "python",
   "pygments_lexer": "ipython3",
   "version": "3.5.2"
  }
 },
 "nbformat": 4,
 "nbformat_minor": 2
}
