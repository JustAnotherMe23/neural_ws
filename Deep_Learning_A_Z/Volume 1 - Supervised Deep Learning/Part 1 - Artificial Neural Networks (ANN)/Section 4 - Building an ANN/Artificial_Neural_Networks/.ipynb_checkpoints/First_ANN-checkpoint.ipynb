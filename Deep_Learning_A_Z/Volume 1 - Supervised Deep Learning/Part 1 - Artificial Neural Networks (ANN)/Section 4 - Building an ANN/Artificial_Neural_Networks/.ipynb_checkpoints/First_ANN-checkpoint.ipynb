{
 "cells": [
  {
   "cell_type": "code",
   "execution_count": 1,
   "metadata": {},
   "outputs": [
    {
     "name": "stderr",
     "output_type": "stream",
     "text": [
      "Using TensorFlow backend.\n"
     ]
    }
   ],
   "source": [
    "# This is a practice Artificial Neural Network\n",
    "# The problem being solved is based off of a model bank with fake data\n",
    "# The bank has customers that have left for whatever reason\n",
    "# The goal is to find why these customers have left using information such as account balance and gender\n",
    "# The last column of the data states whether or not the customer has left the bank\n",
    "\n",
    "\n",
    "import numpy as np #Math operations library\n",
    "import matplotlib.pyplot as plt #Visualization library\n",
    "import pandas as pd #Matrix handler\n",
    "from sklearn.preprocessing import LabelEncoder, OneHotEncoder, StandardScaler #Methods to change categorical strings to numbers and scaling ability\n",
    "from sklearn.model_selection import train_test_split\n",
    "import keras # Brings in tensorflow with it\n",
    "from keras.models import Sequential # Used for initialization of ANN\n",
    "from keras.layers import Dense # adds layers to ANN\n",
    "from sklearn.metrics import confusion_matrix"
   ]
  },
  {
   "cell_type": "code",
   "execution_count": 2,
   "metadata": {
    "scrolled": true
   },
   "outputs": [],
   "source": [
    "# Gather data\n",
    "dataset = pd.read_csv('Churn_Modelling.csv') #Import data from csv\n",
    "dataset = dataset.iloc[:, 3:].values #Pulls features from data"
   ]
  },
  {
   "cell_type": "code",
   "execution_count": 3,
   "metadata": {
    "scrolled": true
   },
   "outputs": [],
   "source": [
    "# Preprocessing\n",
    "label_encoder_x_1 = LabelEncoder()\n",
    "label_encoder_x_2 = LabelEncoder() # For text categories, gives int value instead\n",
    "dataset[:, 1] = label_encoder_x_1.fit_transform(dataset[:, 1])\n",
    "dataset[:, 2] = label_encoder_x_2.fit_transform(dataset[:, 2])\n",
    "\n",
    "onehotencoder = OneHotEncoder(categorical_features=[1]) # Separates categorical data into binary columns\n",
    "dataset = onehotencoder.fit_transform(dataset).toarray()\n",
    "dataset = dataset[:, 1:] # Removes first column to prevent dummy variable trap\n",
    "x = dataset[:10000, :11]\n",
    "y = dataset[:10000, 11]"
   ]
  },
  {
   "cell_type": "code",
   "execution_count": 4,
   "metadata": {},
   "outputs": [
    {
     "name": "stdout",
     "output_type": "stream",
     "text": [
      "[0.0000000e+00 1.0000000e+00 6.6700000e+02 0.0000000e+00 3.4000000e+01\n",
      " 5.0000000e+00 0.0000000e+00 2.0000000e+00 1.0000000e+00 0.0000000e+00\n",
      " 1.6383064e+05]\n"
     ]
    }
   ],
   "source": [
    "x_train, x_test, y_train, y_test = train_test_split(x, y, test_size=0.2, random_state=0) # Creates train and test sets\n",
    "print(x_train[0][:])\n",
    "\n",
    "sc = StandardScaler() # Scales data to make initial weight value close to end value\n",
    "x_train = sc.fit_transform(x_train) # Computes mean and applies transformation\n",
    "x_test = sc.transform(x_test) # Uses the mean from the above method\n",
    "\n",
    "# Notes\n",
    "# Categorical data is no longer from 0 to 1\n",
    "# Scaling does not apply from 0 to 1\n",
    "# Categories of 1 have the same value, as do categories of 0"
   ]
  },
  {
   "cell_type": "code",
   "execution_count": 5,
   "metadata": {},
   "outputs": [],
   "source": [
    "classifier = Sequential() # This is the ANN object\n",
    "classifier.add(Dense(input_dim=11, units=6, kernel_initializer='uniform', activation='relu')) #Creates first hidden layer\n",
    "classifier.add(Dense(units=6, kernel_initializer='uniform', activation='relu')) # Second layer. Input dim is known from previous layer\n",
    "classifier.add(Dense(units=1, kernel_initializer='uniform', activation='sigmoid')) # Output layer. Only 1 ouput category, sigmoid activation to get probability of sureness\n",
    "\n",
    "# Note: Softmax applies to a dependent variable that has more than 2 categories\n",
    "# i.e. fMRI categorizations\n",
    "\n",
    "classifier.compile(optimizer=\"adam\", loss=\"binary_crossentropy\", metrics=['accuracy'])\n",
    "# Notes\n",
    "# adam is a kind of stochastic gradient descent\n",
    "# For multivariabel, use categorical cross entropy\n",
    "# Accuracy is predefined and shows accuracy"
   ]
  },
  {
   "cell_type": "code",
   "execution_count": 6,
   "metadata": {},
   "outputs": [
    {
     "name": "stdout",
     "output_type": "stream",
     "text": [
      "Epoch 1/100\n",
      "8000/8000 [==============================] - 1s 73us/step - loss: 0.4966 - acc: 0.7954\n",
      "Epoch 2/100\n",
      "8000/8000 [==============================] - 0s 54us/step - loss: 0.4309 - acc: 0.7960\n",
      "Epoch 3/100\n",
      "8000/8000 [==============================] - 0s 54us/step - loss: 0.4280 - acc: 0.7960\n",
      "Epoch 4/100\n",
      "8000/8000 [==============================] - 0s 54us/step - loss: 0.4246 - acc: 0.7960\n",
      "Epoch 5/100\n",
      "8000/8000 [==============================] - 0s 55us/step - loss: 0.4206 - acc: 0.8130\n",
      "Epoch 6/100\n",
      "8000/8000 [==============================] - 0s 54us/step - loss: 0.4178 - acc: 0.8212\n",
      "Epoch 7/100\n",
      "8000/8000 [==============================] - 0s 54us/step - loss: 0.4156 - acc: 0.8262\n",
      "Epoch 8/100\n",
      "8000/8000 [==============================] - 0s 54us/step - loss: 0.4139 - acc: 0.8276\n",
      "Epoch 9/100\n",
      "8000/8000 [==============================] - 0s 54us/step - loss: 0.4124 - acc: 0.8319\n",
      "Epoch 10/100\n",
      "8000/8000 [==============================] - 0s 53us/step - loss: 0.4111 - acc: 0.8321\n",
      "Epoch 11/100\n",
      "8000/8000 [==============================] - 0s 55us/step - loss: 0.4100 - acc: 0.8331\n",
      "Epoch 12/100\n",
      "8000/8000 [==============================] - 0s 54us/step - loss: 0.4092 - acc: 0.8329\n",
      "Epoch 13/100\n",
      "8000/8000 [==============================] - 0s 53us/step - loss: 0.4086 - acc: 0.8334\n",
      "Epoch 14/100\n",
      "8000/8000 [==============================] - 0s 62us/step - loss: 0.4074 - acc: 0.8341\n",
      "Epoch 15/100\n",
      "8000/8000 [==============================] - 0s 58us/step - loss: 0.4072 - acc: 0.8330\n",
      "Epoch 16/100\n",
      "8000/8000 [==============================] - 0s 54us/step - loss: 0.4062 - acc: 0.8347\n",
      "Epoch 17/100\n",
      "8000/8000 [==============================] - 0s 54us/step - loss: 0.4059 - acc: 0.8349\n",
      "Epoch 18/100\n",
      "8000/8000 [==============================] - 0s 54us/step - loss: 0.4054 - acc: 0.8342\n",
      "Epoch 19/100\n",
      "8000/8000 [==============================] - 0s 53us/step - loss: 0.4043 - acc: 0.8350\n",
      "Epoch 20/100\n",
      "8000/8000 [==============================] - 0s 55us/step - loss: 0.4043 - acc: 0.8356\n",
      "Epoch 21/100\n",
      "8000/8000 [==============================] - 0s 60us/step - loss: 0.4038 - acc: 0.8360\n",
      "Epoch 22/100\n",
      "8000/8000 [==============================] - 1s 63us/step - loss: 0.4031 - acc: 0.8350\n",
      "Epoch 23/100\n",
      "8000/8000 [==============================] - 0s 54us/step - loss: 0.4022 - acc: 0.8370\n",
      "Epoch 24/100\n",
      "8000/8000 [==============================] - 0s 54us/step - loss: 0.4025 - acc: 0.8371\n",
      "Epoch 25/100\n",
      "8000/8000 [==============================] - 0s 54us/step - loss: 0.4020 - acc: 0.8366\n",
      "Epoch 26/100\n",
      "8000/8000 [==============================] - 0s 54us/step - loss: 0.4018 - acc: 0.8367\n",
      "Epoch 27/100\n",
      "8000/8000 [==============================] - 0s 54us/step - loss: 0.4014 - acc: 0.8374\n",
      "Epoch 28/100\n",
      "8000/8000 [==============================] - 0s 54us/step - loss: 0.4013 - acc: 0.8369\n",
      "Epoch 29/100\n",
      "8000/8000 [==============================] - 0s 54us/step - loss: 0.4012 - acc: 0.8365\n",
      "Epoch 30/100\n",
      "8000/8000 [==============================] - 0s 54us/step - loss: 0.4007 - acc: 0.8371\n",
      "Epoch 31/100\n",
      "8000/8000 [==============================] - 0s 54us/step - loss: 0.4004 - acc: 0.8384\n",
      "Epoch 32/100\n",
      "8000/8000 [==============================] - 0s 53us/step - loss: 0.4003 - acc: 0.8374\n",
      "Epoch 33/100\n",
      "8000/8000 [==============================] - 0s 54us/step - loss: 0.4002 - acc: 0.8372\n",
      "Epoch 34/100\n",
      "8000/8000 [==============================] - 0s 54us/step - loss: 0.4000 - acc: 0.8377\n",
      "Epoch 35/100\n",
      "8000/8000 [==============================] - 0s 54us/step - loss: 0.3997 - acc: 0.8380\n",
      "Epoch 36/100\n",
      "8000/8000 [==============================] - 0s 54us/step - loss: 0.3999 - acc: 0.8379\n",
      "Epoch 37/100\n",
      "8000/8000 [==============================] - 0s 54us/step - loss: 0.3998 - acc: 0.8384\n",
      "Epoch 38/100\n",
      "8000/8000 [==============================] - 0s 54us/step - loss: 0.3998 - acc: 0.8375\n",
      "Epoch 39/100\n",
      "8000/8000 [==============================] - 0s 54us/step - loss: 0.3994 - acc: 0.8394\n",
      "Epoch 40/100\n",
      "8000/8000 [==============================] - 0s 54us/step - loss: 0.3991 - acc: 0.8365\n",
      "Epoch 41/100\n",
      "8000/8000 [==============================] - 0s 54us/step - loss: 0.3995 - acc: 0.8370\n",
      "Epoch 42/100\n",
      "8000/8000 [==============================] - 0s 54us/step - loss: 0.3994 - acc: 0.8369\n",
      "Epoch 43/100\n",
      "8000/8000 [==============================] - 0s 54us/step - loss: 0.3989 - acc: 0.8377\n",
      "Epoch 44/100\n",
      "8000/8000 [==============================] - 0s 54us/step - loss: 0.3990 - acc: 0.8380\n",
      "Epoch 45/100\n",
      "8000/8000 [==============================] - 0s 54us/step - loss: 0.3991 - acc: 0.8376\n",
      "Epoch 46/100\n",
      "8000/8000 [==============================] - 0s 54us/step - loss: 0.3989 - acc: 0.8381\n",
      "Epoch 47/100\n",
      "8000/8000 [==============================] - 0s 54us/step - loss: 0.3993 - acc: 0.8367\n",
      "Epoch 48/100\n",
      "8000/8000 [==============================] - 0s 53us/step - loss: 0.3991 - acc: 0.8381\n",
      "Epoch 49/100\n",
      "8000/8000 [==============================] - 0s 55us/step - loss: 0.3990 - acc: 0.8366\n",
      "Epoch 50/100\n",
      "8000/8000 [==============================] - 0s 54us/step - loss: 0.3986 - acc: 0.8382\n",
      "Epoch 51/100\n",
      "8000/8000 [==============================] - 0s 53us/step - loss: 0.3988 - acc: 0.8384\n",
      "Epoch 52/100\n",
      "8000/8000 [==============================] - 0s 54us/step - loss: 0.3983 - acc: 0.8386\n",
      "Epoch 53/100\n",
      "8000/8000 [==============================] - 0s 54us/step - loss: 0.3987 - acc: 0.8385\n",
      "Epoch 54/100\n",
      "8000/8000 [==============================] - 0s 53us/step - loss: 0.3986 - acc: 0.8370\n",
      "Epoch 55/100\n",
      "8000/8000 [==============================] - 0s 54us/step - loss: 0.3988 - acc: 0.8375\n",
      "Epoch 56/100\n",
      "8000/8000 [==============================] - 0s 55us/step - loss: 0.3983 - acc: 0.8367\n",
      "Epoch 57/100\n",
      "8000/8000 [==============================] - 0s 53us/step - loss: 0.3986 - acc: 0.8379\n",
      "Epoch 58/100\n",
      "8000/8000 [==============================] - 0s 54us/step - loss: 0.3982 - acc: 0.8365\n",
      "Epoch 59/100\n",
      "8000/8000 [==============================] - 0s 55us/step - loss: 0.3982 - acc: 0.8369\n",
      "Epoch 60/100\n",
      "8000/8000 [==============================] - 0s 53us/step - loss: 0.3983 - acc: 0.8375\n",
      "Epoch 61/100\n",
      "8000/8000 [==============================] - 0s 54us/step - loss: 0.3981 - acc: 0.8370\n",
      "Epoch 62/100\n",
      "8000/8000 [==============================] - 0s 54us/step - loss: 0.3977 - acc: 0.8370\n",
      "Epoch 63/100\n",
      "8000/8000 [==============================] - 0s 54us/step - loss: 0.3981 - acc: 0.8375\n",
      "Epoch 64/100\n",
      "8000/8000 [==============================] - 0s 54us/step - loss: 0.3978 - acc: 0.8367\n",
      "Epoch 65/100\n",
      "8000/8000 [==============================] - 0s 54us/step - loss: 0.3979 - acc: 0.8364\n",
      "Epoch 66/100\n",
      "8000/8000 [==============================] - 0s 54us/step - loss: 0.3980 - acc: 0.8376\n",
      "Epoch 67/100\n",
      "8000/8000 [==============================] - 0s 54us/step - loss: 0.3978 - acc: 0.8359\n",
      "Epoch 68/100\n",
      "8000/8000 [==============================] - 0s 54us/step - loss: 0.3977 - acc: 0.8379\n",
      "Epoch 69/100\n",
      "8000/8000 [==============================] - 0s 54us/step - loss: 0.3977 - acc: 0.8356\n",
      "Epoch 70/100\n",
      "8000/8000 [==============================] - 0s 54us/step - loss: 0.3977 - acc: 0.8377\n",
      "Epoch 71/100\n",
      "8000/8000 [==============================] - 0s 54us/step - loss: 0.3980 - acc: 0.8359\n",
      "Epoch 72/100\n",
      "8000/8000 [==============================] - 0s 54us/step - loss: 0.3971 - acc: 0.8379\n",
      "Epoch 73/100\n",
      "8000/8000 [==============================] - 0s 55us/step - loss: 0.3977 - acc: 0.8376\n",
      "Epoch 74/100\n",
      "8000/8000 [==============================] - 0s 54us/step - loss: 0.3979 - acc: 0.8379\n",
      "Epoch 75/100\n",
      "8000/8000 [==============================] - 0s 54us/step - loss: 0.3975 - acc: 0.8371\n",
      "Epoch 76/100\n",
      "8000/8000 [==============================] - 0s 53us/step - loss: 0.3969 - acc: 0.8369\n",
      "Epoch 77/100\n",
      "8000/8000 [==============================] - 0s 54us/step - loss: 0.3974 - acc: 0.8381\n",
      "Epoch 78/100\n",
      "8000/8000 [==============================] - 0s 54us/step - loss: 0.3971 - acc: 0.8372\n",
      "Epoch 79/100\n",
      "8000/8000 [==============================] - 0s 54us/step - loss: 0.3976 - acc: 0.8357\n",
      "Epoch 80/100\n",
      "8000/8000 [==============================] - 0s 54us/step - loss: 0.3975 - acc: 0.8366\n",
      "Epoch 81/100\n",
      "8000/8000 [==============================] - 0s 55us/step - loss: 0.3974 - acc: 0.8372\n",
      "Epoch 82/100\n",
      "8000/8000 [==============================] - 0s 54us/step - loss: 0.3973 - acc: 0.8364\n",
      "Epoch 83/100\n"
     ]
    },
    {
     "name": "stdout",
     "output_type": "stream",
     "text": [
      "8000/8000 [==============================] - 0s 54us/step - loss: 0.3970 - acc: 0.8377\n",
      "Epoch 84/100\n",
      "8000/8000 [==============================] - 0s 54us/step - loss: 0.3970 - acc: 0.8380\n",
      "Epoch 85/100\n",
      "8000/8000 [==============================] - 0s 54us/step - loss: 0.3972 - acc: 0.8376\n",
      "Epoch 86/100\n",
      "8000/8000 [==============================] - 0s 54us/step - loss: 0.3971 - acc: 0.8371\n",
      "Epoch 87/100\n",
      "8000/8000 [==============================] - 0s 54us/step - loss: 0.3967 - acc: 0.8357\n",
      "Epoch 88/100\n",
      "8000/8000 [==============================] - 0s 55us/step - loss: 0.3972 - acc: 0.8369\n",
      "Epoch 89/100\n",
      "8000/8000 [==============================] - 0s 53us/step - loss: 0.3970 - acc: 0.8362\n",
      "Epoch 90/100\n",
      "8000/8000 [==============================] - 0s 54us/step - loss: 0.3970 - acc: 0.8359\n",
      "Epoch 91/100\n",
      "8000/8000 [==============================] - 0s 54us/step - loss: 0.3970 - acc: 0.8367\n",
      "Epoch 92/100\n",
      "8000/8000 [==============================] - 0s 54us/step - loss: 0.3968 - acc: 0.8372\n",
      "Epoch 93/100\n",
      "8000/8000 [==============================] - 0s 53us/step - loss: 0.3970 - acc: 0.8365\n",
      "Epoch 94/100\n",
      "8000/8000 [==============================] - 0s 54us/step - loss: 0.3965 - acc: 0.8377\n",
      "Epoch 95/100\n",
      "8000/8000 [==============================] - 0s 54us/step - loss: 0.3965 - acc: 0.8374\n",
      "Epoch 96/100\n",
      "8000/8000 [==============================] - 0s 54us/step - loss: 0.3970 - acc: 0.8379\n",
      "Epoch 97/100\n",
      "8000/8000 [==============================] - 1s 63us/step - loss: 0.3967 - acc: 0.8379\n",
      "Epoch 98/100\n",
      "8000/8000 [==============================] - 0s 59us/step - loss: 0.3970 - acc: 0.8369\n",
      "Epoch 99/100\n",
      "8000/8000 [==============================] - 0s 54us/step - loss: 0.3967 - acc: 0.8359\n",
      "Epoch 100/100\n",
      "8000/8000 [==============================] - 0s 54us/step - loss: 0.3969 - acc: 0.8359\n"
     ]
    },
    {
     "data": {
      "text/plain": [
       "<keras.callbacks.History at 0x7f276ec145c0>"
      ]
     },
     "execution_count": 6,
     "metadata": {},
     "output_type": "execute_result"
    }
   ],
   "source": [
    "classifier.fit(x_train, y_train, batch_size=10, epochs=100)"
   ]
  },
  {
   "cell_type": "code",
   "execution_count": 7,
   "metadata": {},
   "outputs": [
    {
     "name": "stdout",
     "output_type": "stream",
     "text": [
      "0.842\n"
     ]
    }
   ],
   "source": [
    "y_pred = classifier.predict(x_test) # predict test data\n",
    "y_pred = (y_pred > 0.5)\n",
    "\n",
    "cm = confusion_matrix(y_test, y_pred)\n",
    "total = sum(sum(cm))\n",
    "print((cm[0][0] + cm[1][1]) / total)"
   ]
  },
  {
   "cell_type": "code",
   "execution_count": 25,
   "metadata": {
    "scrolled": true
   },
   "outputs": [
    {
     "name": "stdout",
     "output_type": "stream",
     "text": [
      "(11,)\n",
      "[[0.]]\n"
     ]
    }
   ],
   "source": [
    "#Using a single case new customer\n",
    "x_guess = dataset[10000, :11] #Pulls features from data\n",
    "print(classifier.predict(np.array([x_guess])))"
   ]
  },
  {
   "cell_type": "code",
   "execution_count": null,
   "metadata": {},
   "outputs": [],
   "source": []
  }
 ],
 "metadata": {
  "kernelspec": {
   "display_name": "Python 3",
   "language": "python",
   "name": "python3"
  },
  "language_info": {
   "codemirror_mode": {
    "name": "ipython",
    "version": 3
   },
   "file_extension": ".py",
   "mimetype": "text/x-python",
   "name": "python",
   "nbconvert_exporter": "python",
   "pygments_lexer": "ipython3",
   "version": "3.5.2"
  }
 },
 "nbformat": 4,
 "nbformat_minor": 2
}
