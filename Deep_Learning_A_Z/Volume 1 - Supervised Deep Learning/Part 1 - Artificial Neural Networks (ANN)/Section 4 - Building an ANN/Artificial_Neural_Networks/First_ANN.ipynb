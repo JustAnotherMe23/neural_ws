{
 "cells": [
  {
   "cell_type": "code",
   "execution_count": null,
   "metadata": {},
   "outputs": [],
   "source": [
    "# This is a practice Artificial Neural Network\n",
    "# The problem being solved is based off of a model bank with fake data\n",
    "# The bank has customers that have left for whatever reason\n",
    "# The goal is to find why these customers have left using information such as account balance and gender\n",
    "# The last column of the data states whether or not the customer has left the bank\n",
    "\n",
    "\n",
    "import numpy as np #Math operations library\n",
    "import matplotlib.pyplot as plt #Visualization library\n",
    "import pandas as pd #Matrix handler\n",
    "from sklearn.preprocessing import LabelEncoder, OneHotEncoder, StandardScaler #Methods to change categorical strings to numbers and scaling ability\n",
    "from sklearn.model_selection import train_test_split\n",
    "import keras # Brings in tensorflow with it\n",
    "from keras.models import Sequential # Used for initialization of ANN\n",
    "from keras.layers import Dense # adds layers to ANN\n",
    "from sklearn.metrics import confusion_matrix"
   ]
  },
  {
   "cell_type": "code",
   "execution_count": null,
   "metadata": {},
   "outputs": [],
   "source": [
    "# Gather data\n",
    "dataset = pd.read_csv('Churn_Modelling.csv') #Import data from csv\n",
    "x = dataset.iloc[:, 3:13].values #Pulls features from data\n",
    "y = dataset.iloc[:, 13].values # Pulls result from data"
   ]
  },
  {
   "cell_type": "code",
   "execution_count": null,
   "metadata": {},
   "outputs": [],
   "source": [
    "# Preprocessing\n",
    "label_encoder_x_1 = LabelEncoder()\n",
    "label_encoder_x_2 = LabelEncoder() # For text categories, gives int value instead\n",
    "x[:, 1] = label_encoder_x_1.fit_transform(x[:, 1])\n",
    "x[:, 2] = label_encoder_x_2.fit_transform(x[:, 2])\n",
    "\n",
    "\n",
    "onehotencoder = OneHotEncoder(categorical_features=[1]) # Separates categorical data into binary columns\n",
    "x = onehotencoder.fit_transform(x).toarray()\n",
    "x = x[:, 1:] # Removes first column to prevent dummy variable trap"
   ]
  },
  {
   "cell_type": "code",
   "execution_count": null,
   "metadata": {},
   "outputs": [],
   "source": [
    "x_train, x_test, y_train, y_test = train_test_split(x, y, test_size=0.2, random_state=0) # Creates train and test sets\n",
    "\n",
    "sc = StandardScaler() # Scales data to make initial weight value close to end value\n",
    "x_train = sc.fit_transform(x_train) # Computes mean and applies transformation\n",
    "x_test = sc.transform(x_test) # Uses the mean from the above method\n",
    "\n",
    "# Notes\n",
    "# Categorical data is no longer from 0 to 1\n",
    "# Scaling does not apply from 0 to 1\n",
    "# Categories of 1 have the same value, as do categories of 0"
   ]
  },
  {
   "cell_type": "code",
   "execution_count": null,
   "metadata": {},
   "outputs": [],
   "source": [
    "classifier = Sequential() # This is the ANN object\n",
    "classifier.add(Dense(input_dim=11, units=6, kernel_initializer='uniform', activation='relu')) #Creates first hidden layer\n",
    "classifier.add(Dense(units=6, kernel_initializer='uniform', activation='relu')) # Second layer. Input dim is known from previous layer\n",
    "classifier.add(Dense(units=1, kernel_initializer='uniform', activation='sigmoid')) # Output layer. Only 1 ouput category, sigmoid activation to get probability of sureness\n",
    "\n",
    "# Note: Softmax applies to a dependent variable that has more than 2 categories\n",
    "# i.e. fMRI categorizations\n",
    "\n",
    "classifier.compile(optimizer=\"adam\", loss=\"binary_crossentropy\", metrics=['accuracy'])\n",
    "# Notes\n",
    "# adam is a kind of stochastic gradient descent\n",
    "# For multivariabel, use categorical cross entropy\n",
    "# Accuracy is predefined and shows accuracy"
   ]
  },
  {
   "cell_type": "code",
   "execution_count": null,
   "metadata": {},
   "outputs": [],
   "source": [
    "classifier.fit(x_train, y_train, batch_size=10, epochs=100)"
   ]
  },
  {
   "cell_type": "code",
   "execution_count": null,
   "metadata": {},
   "outputs": [],
   "source": [
    "y_pred = classifier.predict(x_test) # predict test data\n",
    "y_pred = (y_pred > 0.5)\n",
    "\n",
    "print(y_pred)"
   ]
  }
 ],
 "metadata": {
  "kernelspec": {
   "display_name": "Python 3",
   "language": "python",
   "name": "python3"
  },
  "language_info": {
   "codemirror_mode": {
    "name": "ipython",
    "version": 3
   },
   "file_extension": ".py",
   "mimetype": "text/x-python",
   "name": "python",
   "nbconvert_exporter": "python",
   "pygments_lexer": "ipython3",
   "version": "3.5.2"
  }
 },
 "nbformat": 4,
 "nbformat_minor": 2
}
