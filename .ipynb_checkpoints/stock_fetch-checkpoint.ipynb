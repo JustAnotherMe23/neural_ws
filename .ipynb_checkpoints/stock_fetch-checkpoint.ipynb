{
 "cells": [
  {
   "cell_type": "code",
   "execution_count": 18,
   "metadata": {},
   "outputs": [
    {
     "name": "stdout",
     "output_type": "stream",
     "text": [
      "108.125\n"
     ]
    }
   ],
   "source": [
    "# key: 9W3PE84XLIHRM7W0\n",
    "\n",
    "import requests\n",
    "import json\n",
    "\n",
    "key = '9W3PE84XLIHRM7W0'\n",
    "function = 'TIME_SERIES_INTRADAY'\n",
    "interval = '5min'\n",
    "output_size = 'compact'\n",
    "datatype = 'json'\n",
    "symbol = 'MSFT'\n",
    "\n",
    "\n",
    "URL = 'https://www.alphavantage.co/query?function=' + function + '&symbol=' + symbol + \\\n",
    "    '&interval=' + interval + '&apikey=' + key + '%datatype=' + datatype + '&output_size=' + output_size\n",
    "r = requests.get(url = URL)\n",
    "data = r.json()\n",
    "print(float(data['Time Series (5min)']['2018-09-07 15:20:00']['4. close']))"
   ]
  },
  {
   "cell_type": "code",
   "execution_count": null,
   "metadata": {},
   "outputs": [],
   "source": []
  }
 ],
 "metadata": {
  "kernelspec": {
   "display_name": "Python 3",
   "language": "python",
   "name": "python3"
  },
  "language_info": {
   "codemirror_mode": {
    "name": "ipython",
    "version": 3
   },
   "file_extension": ".py",
   "mimetype": "text/x-python",
   "name": "python",
   "nbconvert_exporter": "python",
   "pygments_lexer": "ipython3",
   "version": "3.5.2"
  }
 },
 "nbformat": 4,
 "nbformat_minor": 2
}
